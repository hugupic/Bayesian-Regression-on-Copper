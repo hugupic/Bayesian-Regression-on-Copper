{
 "cells": [
  {
   "cell_type": "markdown",
   "metadata": {},
   "source": [
    "# Bayesian Regression on Copper Futures\n",
    "This Notebook displays a simple concept test of a novel algorithm on real financial data.   \n",
    "Disclaimer: No financial promises whatsoever.  "
   ]
  },
  {
   "cell_type": "markdown",
   "metadata": {},
   "source": [
    "### The Overview of the Algorithm\n",
    "The original paper can be found here: https://devavrat.mit.edu/wp-content/uploads/2017/11/Bayesian-regression-and-Bitcoin.pdf    \n",
    "Presentation of paper and results found here: https://www.youtube.com/watch?v=rswFBcWE3wA  \n",
    "The algorithm is summarized in three steps:\n",
    "1. \"Gather information, K\". Using K-means clustering on vectors of historical prices, the algorithm gathers information by drawing distinct price patterns. The resulting centroids are the empirical 'Latent Sources'.\n",
    "2. Using these Latent Sources, we estimate the next price change by calculating the Euclidean distance between an input vector containing recent prices and the 'Latent Sources'. This Euclidean distance is a similarity measure by which we estimate the probability of experiencing the same price change with the corresponding Latent Sources. This is the heart of the algorithm. The input is an array of prices; the output is  $E[\\Delta{P}]$. Details below.\n",
    "3. The Trading Algorithm: Repeats step 1 and 2 for different time frames and, as accurately termed in data science terminology, 'stacks' an OLS on the predicted price changes. For instance, over 3 different time frames, we repeat the algorithm 3 times to get 3 different $E[\\Delta{P}]$'s which we proceed to regress with the actual price changes. This gives us weights which correspond to the dominant time frames. "
   ]
  },
  {
   "cell_type": "code",
   "execution_count": 1,
   "metadata": {},
   "outputs": [
    {
     "data": {
      "text/plain": [
       "['.git',\n",
       " '.gitattributes',\n",
       " '.ipynb_checkpoints',\n",
       " '5 Dec.csv',\n",
       " '6 Dec.csv',\n",
       " 'Bayesian Regression on Copper-Algorithm Walkthrough.ipynb',\n",
       " 'Bayesian Regression on Copper.ipynb',\n",
       " 'README.md']"
      ]
     },
     "execution_count": 1,
     "metadata": {},
     "output_type": "execute_result"
    }
   ],
   "source": [
    "import pandas as pd\n",
    "import numpy as np\n",
    "import matplotlib.pyplot as plt\n",
    "from numba import jit\n",
    "import numpy as np\n",
    "#!pip install bigfloat\n",
    "#import bigfloat as bg\n",
    "import gmpy2 as gp\n",
    "from numpy.linalg import norm\n",
    "from sklearn import linear_model\n",
    "from sklearn.cluster import KMeans\n",
    "import os\n",
    "\n",
    "os.listdir()"
   ]
  },
  {
   "cell_type": "markdown",
   "metadata": {},
   "source": [
    "#### Showcasing and preparing the data\n",
    "We test model on 1 days worth of futures data. More data is found in the github repository.    \n",
    "The data captures the 1 second snapshot of the bid and ask limit order quantities and price in consecutive hours of highest trading activity and liquidity.  \n",
    "Admittedly, there is missing data due to latency of the API.  \n",
    "There are limit book order quantities which cover the top 3 front prices. E.g. there are 24 limit buy orders in total at 8:45:57 for the prices 5916-5914. "
   ]
  },
  {
   "cell_type": "code",
   "execution_count": 2,
   "metadata": {},
   "outputs": [
    {
     "data": {
      "text/html": [
       "<div>\n",
       "<style scoped>\n",
       "    .dataframe tbody tr th:only-of-type {\n",
       "        vertical-align: middle;\n",
       "    }\n",
       "\n",
       "    .dataframe tbody tr th {\n",
       "        vertical-align: top;\n",
       "    }\n",
       "\n",
       "    .dataframe thead th {\n",
       "        text-align: right;\n",
       "    }\n",
       "</style>\n",
       "<table border=\"1\" class=\"dataframe\">\n",
       "  <thead>\n",
       "    <tr style=\"text-align: right;\">\n",
       "      <th></th>\n",
       "      <th>HG Bid Qty</th>\n",
       "      <th>HG Bid</th>\n",
       "      <th>HG Ask</th>\n",
       "      <th>HG Ask Qty</th>\n",
       "    </tr>\n",
       "    <tr>\n",
       "      <th>TIME</th>\n",
       "      <th></th>\n",
       "      <th></th>\n",
       "      <th></th>\n",
       "      <th></th>\n",
       "    </tr>\n",
       "  </thead>\n",
       "  <tbody>\n",
       "    <tr>\n",
       "      <th>8:45:57</th>\n",
       "      <td>24.0</td>\n",
       "      <td>5916.0</td>\n",
       "      <td>5917.0</td>\n",
       "      <td>27.0</td>\n",
       "    </tr>\n",
       "    <tr>\n",
       "      <th>8:45:58</th>\n",
       "      <td>24.0</td>\n",
       "      <td>5916.0</td>\n",
       "      <td>5917.0</td>\n",
       "      <td>27.0</td>\n",
       "    </tr>\n",
       "    <tr>\n",
       "      <th>8:46:00</th>\n",
       "      <td>25.0</td>\n",
       "      <td>5916.0</td>\n",
       "      <td>5917.0</td>\n",
       "      <td>28.0</td>\n",
       "    </tr>\n",
       "  </tbody>\n",
       "</table>\n",
       "</div>"
      ],
      "text/plain": [
       "         HG Bid Qty  HG Bid  HG Ask  HG Ask Qty\n",
       "TIME                                           \n",
       "8:45:57        24.0  5916.0  5917.0        27.0\n",
       "8:45:58        24.0  5916.0  5917.0        27.0\n",
       "8:46:00        25.0  5916.0  5917.0        28.0"
      ]
     },
     "metadata": {},
     "output_type": "display_data"
    },
    {
     "data": {
      "text/plain": [
       "'Number of data points: 32617'"
      ]
     },
     "metadata": {},
     "output_type": "display_data"
    }
   ],
   "source": [
    "df = pd.read_csv('6 Dec.csv')\n",
    "\n",
    "# format data\n",
    "df = df.loc[:,['TIME', 'HG Bid Qty', 'HG Bid','HG Ask', 'HG Ask Qty']]\n",
    "df = df.set_index('TIME')\n",
    "df = df.iloc[::-1]\n",
    "df.dropna(axis = 0, inplace = True)\n",
    "\n",
    "display(df.head(3))\n",
    "display(\"Number of data points: {}\".format(len(df)))"
   ]
  },
  {
   "cell_type": "markdown",
   "metadata": {},
   "source": [
    "We convert the dataframe of prices and limit book orders into arrays of data.  \n",
    "We need 3 disjoint arrays; the first 2 to train the algorithm, and the 3rd is kept for an out-of-sample test."
   ]
  },
  {
   "cell_type": "code",
   "execution_count": 3,
   "metadata": {},
   "outputs": [],
   "source": [
    "# divide the prices\n",
    "prices = (df.loc[:,'HG Bid'] + df.loc[:,'HG Ask']) /2\n",
    "prices = prices.values\n",
    "[prices1, prices2, prices3] = np.array_split(prices, 3)\n",
    "\n",
    "# divide the bid volumes\n",
    "v_bid = df.loc[:,'HG Bid Qty'].values\n",
    "[v_bid1, v_bid2, v_bid3] = np.array_split(v_bid, 3)\n",
    "\n",
    "# divide the ask volumes\n",
    "v_ask = df.loc[:,'HG Ask Qty'].values\n",
    "[v_ask1, v_ask2, v_ask3] = np.array_split(v_ask, 3)"
   ]
  },
  {
   "cell_type": "markdown",
   "metadata": {},
   "source": [
    "#### We divide the Algorithm into 3:\n",
    "1. \"Gather Information\" step: This trains the forecasting algorithm to generate $E[\\Delta P]$\n",
    "2. The Trading Algorithm: Using the inputs of various $E[\\Delta P]$ over different timeframes ouput a better prediction.\n",
    "3. A quick and dirty out of sample test."
   ]
  },
  {
   "cell_type": "markdown",
   "metadata": {},
   "source": [
    "### <center>  1. Gather Knowledge. </center>\n",
    "\n",
    "Given an array of prices $[P_{t}, P_{t-1}...]$, how do we estimate the next price change $E[\\Delta P]$?  \n",
    "Say, given a binary classification problem of y, the proposed solution is to generate $T$ latent sources and to estimate the probability of y, given that the input price array is similar to $k$-th latent source. Meaning, the conditional distribution of y given x is:\n",
    "<center> $ \\begin{align} P(y|x) & = \\sum^{T}_{k=1} P(y|x,T=k)P(T=k|x) \\end{align}$</center>\n",
    "\n",
    "  \n",
    "  Similarly for a regression problem, we approximate the conditional probabilities by summing the weighted majority votes of these latent sources. The regression problem is reduced to:  \n",
    "$$ \\hat{y} = \\frac{\\sum_{i=1}^{n}y_{i}exp(-\\frac{1}{4}||x-x_i||^{2}_{2})}{\\sum_{i=1}^{n}exp(-\\frac{1}{4}||x-x_i||^{2}_{2})}$$  \n",
    " \n",
    "  (See eqn (3) (4) and (6) in paper.)"
   ]
  },
  {
   "cell_type": "markdown",
   "metadata": {},
   "source": [
    "__Cut the long timeseries into moving window frames:__ We generate these time series of, say, 181 consecutive bars across all the data. Meaning to say that if we have 183 data points, then we can only take 3 snapshots of 180 consecutive bars, each overlapping one another by all but 1 second."
   ]
  },
  {
   "cell_type": "code",
   "execution_count": 5,
   "metadata": {},
   "outputs": [],
   "source": [
    "def vectorscale(v):\n",
    "    \"\"\"\n",
    "    Normalize the price time series in the latent sources\n",
    "    \"\"\"\n",
    "    if np.std(v[:-1]) == 0:\n",
    "        # to avoid dividing by zero when the price does not move for a whole 3 minutes\n",
    "        return( (v-np.mean(v[:-1])) )\n",
    "    else:\n",
    "        return( (v-np.mean(v[:-1])) / np.std(v[:-1]) )\n",
    "\n",
    "def generate_timeseries(prices, n):\n",
    "    \"\"\"Use the first time period to generate all possible time series of length n\n",
    "       and their corresponding label.\n",
    "       This includes VectorScale as compared to Shah's original implementation.\n",
    "       \n",
    "    Args:\n",
    "        prices: A numpy array of floats representing prices over the first time\n",
    "            period.\n",
    "        n: An integer (180, 360, or 720) representing the length of time series.\n",
    "    Returns:\n",
    "        A 2-dimensional numpy array of size (len(prices)-n) x (n+1). Each row\n",
    "        represents a time series of length n and its corresponding label\n",
    "        (n+1-th column).\n",
    "        \n",
    "        With the vector scale function, there'll by some NaNs, when standard \n",
    "        deviation = 0.\n",
    "    \"\"\"\n",
    "    m = len(prices) - n\n",
    "    ts = np.empty((m, n + 1))\n",
    "    for i in range(m):\n",
    "        ts[i, :n+1] = vectorscale(prices[i:i + n+1])\n",
    "        ts[i, n] = ts[i, n] - ts[i, n-1]\n",
    "    ts = ts[~np.isnan(ts).any(axis=1)] # remove rows that contain NaN\n",
    "    return ts\n",
    "\n",
    "timeseries180 = generate_timeseries(prices1, 180)"
   ]
  },
  {
   "cell_type": "markdown",
   "metadata": {},
   "source": [
    "__K-Means Clustering to generate T latent sources__\n",
    "In order to approximate the conditional probability, we need to find the euclidean distance of an observation to the training set. Obviously calculating this with EVERY observations is taxing and impractical. The K-means clustering allows us to pick out dominant clusters and summarize our latent sources."
   ]
  },
  {
   "cell_type": "code",
   "execution_count": 6,
   "metadata": {},
   "outputs": [
    {
     "data": {
      "image/png": "[encoded data removed]",
      "text/plain": [
       "<matplotlib.figure.Figure at 0x1b5686a5f60>"
      ]
     },
     "metadata": {},
     "output_type": "display_data"
    }
   ],
   "source": [
    "def find_cluster_centers(timeseries, k):\n",
    "    \"\"\"Cluster timeseries in k clusters using k-means and return k cluster centers.\n",
    "    Args:\n",
    "        timeseries: A 2-dimensional numpy array generated by generate_timeseries().\n",
    "        k: An integer representing the number of centers (e.g. 100).\n",
    "    Returns:\n",
    "        A 2-dimensional numpy array of size k x num_columns(timeseries). Each\n",
    "        row represents a cluster center.\n",
    "    \"\"\"\n",
    "    k_means = KMeans(n_clusters=k, n_jobs=-2)\n",
    "    k_means.fit(timeseries)\n",
    "    return k_means.cluster_centers_\n",
    "\n",
    "\n",
    "def choose_effective_centers(centers, n):\n",
    "    \"\"\"Choose n most effective cluster centers with high price variation.\"\"\"\n",
    "    return centers[np.argsort(np.ptp(centers, axis=1))[-n:]]\n",
    "\n",
    "# Cluster timeseries180 in 100 clusters using k-means, return the cluster\n",
    "# centers (centers180), and choose the 20 most effective centers (s1).\n",
    "centers180 = find_cluster_centers(timeseries180, 100)\n",
    "s1 = choose_effective_centers(centers180, 20)\n",
    "\n",
    "# To visualize the patterns:\n",
    "plt.style.use('ggplot')\n",
    "for i in s1:\n",
    "    plt.plot(i[:-1])\n",
    "plt.show()"
   ]
  },
  {
   "cell_type": "markdown",
   "metadata": {},
   "source": [
    "__Finally, in order to estimate $E[\\Delta P]$, we calculate the majority vote.__  For instance, given _input_, we calculuate the weighted average of the price change, weighted by the similarity measure to each latent source, k."
   ]
  },
  {
   "cell_type": "code",
   "execution_count": 13,
   "metadata": {},
   "outputs": [
    {
     "data": {
      "text/plain": [
       "BigFloat.exact('-0.0095684203829492828', precision=53)"
      ]
     },
     "execution_count": 13,
     "metadata": {},
     "output_type": "execute_result"
    }
   ],
   "source": [
    "def predict_dpi(x, s):\n",
    "    \"\"\"Predict the average price change Δp_i, 1 <= i <= 3.\n",
    "    Args:\n",
    "        x: A numpy array of floats representing previous 180, 360, or 720 prices.\n",
    "        s: A 2-dimensional numpy array generated by choose_effective_centers(). These are the dominant clusters that \n",
    "        summarize our empirical probabilities\n",
    "    Returns:\n",
    "        A big float representing average price change Δp_i.\n",
    "    \"\"\"\n",
    "    num = 0\n",
    "    den = 0\n",
    "    x = vectorscale(x)\n",
    "    for i in range(len(s)):\n",
    "        y_i = s[i, len(x)]\n",
    "        x_i = s[i, :len(x)]\n",
    "        exp = gp.exp(-0.25 * norm(x - x_i) ** 2)\n",
    "        num += y_i * exp\n",
    "        den += exp\n",
    "    return num / den\n",
    "\n",
    "input_ = prices2[:180]\n",
    "predict_dpi(input_, s1)"
   ]
  },
  {
   "cell_type": "markdown",
   "metadata": {},
   "source": [
    "### <center> 2. The Trading Algorithm </center> \n",
    "\n",
    "The prediction algorithm above takes into account the past 3 minutes to ouput a 1-second forecast. We repeat the algorithm to account for the past 3, 6 and 12 minutes, denoted $x^{1}, x^{2}, x^{3}$. We also account for order book pressure, $r$.  \n",
    "In a formula:\n",
    "$$ \\Delta P = w_{0} + \\sum^{3}_{j=1}w_{j}\\Delta p^{j} + w_{4}r$$\n",
    "where the weights, $w$, is to be determined with an OLS."
   ]
  },
  {
   "cell_type": "code",
   "execution_count": 14,
   "metadata": {},
   "outputs": [],
   "source": [
    "# Generate the Timeseries\n",
    "timeseries180 = generate_timeseries(prices1, 180)\n",
    "timeseries360 = generate_timeseries(prices1, 360)\n",
    "timeseries720 = generate_timeseries(prices1, 720)\n",
    "\n",
    "# Remove any nans in an numpy array\n",
    "timeseries180 = timeseries180[~np.isnan(timeseries180).any(axis=1)]\n",
    "timeseries360 = timeseries360[~np.isnan(timeseries360).any(axis=1)]\n",
    "timeseries720 = timeseries720[~np.isnan(timeseries720).any(axis=1)]\n",
    "\n",
    "# Find choose the effective clusters for each time frame\n",
    "centers180 = find_cluster_centers(timeseries180, 100)\n",
    "s1 = choose_effective_centers(centers180, 20)\n",
    "\n",
    "centers360 = find_cluster_centers(timeseries360, 100)\n",
    "s2 = choose_effective_centers(centers360, 20)\n",
    "\n",
    "centers720 = find_cluster_centers(timeseries720, 100)\n",
    "s3 = choose_effective_centers(centers720, 20)"
   ]
  },
  {
   "cell_type": "markdown",
   "metadata": {},
   "source": [
    "This generates the $E[\\Delta P]$ for each of the 3 time frames in (Dpi_r) side by side with the actual $\\Delta P$ (Dp)."
   ]
  },
  {
   "cell_type": "code",
   "execution_count": 16,
   "metadata": {},
   "outputs": [
    {
     "name": "stdout",
     "output_type": "stream",
     "text": [
      "Wall time: 1min 24s\n"
     ]
    }
   ],
   "source": [
    "def linear_regression_vars(prices, v_bid, v_ask, s1, s2, s3):\n",
    "    \"\"\"Use the second time period to generate the independent and dependent variables\n",
    "       in the linear regression model Δp = w0 + w1 * Δp1 + w2 * Δp2 + w3 * Δp3 + w4 * r.\n",
    "    Args:\n",
    "        prices: A numpy array of floats representing prices over the second time\n",
    "            period.\n",
    "        v_bid: A numpy array of floats representing total volumes people are\n",
    "            willing to buy over the second time period.\n",
    "        v_ask: A numpy array of floats representing total volumes people are\n",
    "            willing to sell over the second time period.\n",
    "        s1: A 2-dimensional numpy array generated by choose_effective_centers()\n",
    "        s2: A 2-dimensional numpy array generated by choose_effective_centers().\n",
    "        s3: A 2-dimensional numpy array generated by choose_effective_centers().\n",
    "    Returns:\n",
    "        A tuple (X, Y) representing the independent and dependent variables in\n",
    "        the linear regression model. X is a 2-dimensional numpy array and each\n",
    "        row represents [Δp1, Δp2, Δp3, r]. Y is a numpy array of floats and\n",
    "        each array element represents Δp.\n",
    "    \"\"\"\n",
    "    X = np.empty((len(prices) - 721, 4))\n",
    "    Y = np.empty(len(prices) - 721)\n",
    "    for i in range(720, len(prices) - 1):\n",
    "        dp = prices[i + 1] - prices[i]\n",
    "        dp1 = predict_dpi(prices[i - 180:i], s1)\n",
    "        dp2 = predict_dpi(prices[i - 360:i], s2)\n",
    "        dp3 = predict_dpi(prices[i - 720:i], s3)\n",
    "        r = (v_bid[i] - v_ask[i]) / (v_bid[i] + v_ask[i])\n",
    "        X[i - 720, :] = [dp1, dp2, dp3, r]\n",
    "        Y[i - 720] = dp\n",
    "    return X, Y\n",
    "\n",
    "%time Dpi_r, Dp = linear_regression_vars(prices2, v_bid2, v_ask2, s1, s2, s3)"
   ]
  },
  {
   "cell_type": "code",
   "execution_count": 20,
   "metadata": {},
   "outputs": [],
   "source": [
    "def find_parameters_w(X, Y):\n",
    "    \"\"\"Find the parameter values w for the model which best fits X and Y.\n",
    "    Args:\n",
    "        X: A 2-dimensional numpy array representing the independent variables\n",
    "            in the linear regression model.\n",
    "        Y: A numpy array of floats representing the dependent variables in the\n",
    "            linear regression model.\n",
    "    Returns:\n",
    "        A tuple (w0, w1, w2, w3, w4) representing the parameter values w.\n",
    "    \"\"\"\n",
    "    clf = linear_model.LinearRegression()\n",
    "    clf.fit(X, Y)\n",
    "    w0 = clf.intercept_\n",
    "    w1, w2, w3, w4 = clf.coef_\n",
    "    return w0, w1, w2, w3, w4\n",
    "\n",
    "# Find the parameter values w (w0, w1, w2, w3, w4).\n",
    "w = find_parameters_w(Dpi_r, Dp)"
   ]
  },
  {
   "cell_type": "markdown",
   "metadata": {},
   "source": [
    "###   <center> 3. Quick and Dirty Test on unseen data  </center>\n",
    "First, we calculate predictions on unseen data."
   ]
  },
  {
   "cell_type": "code",
   "execution_count": 21,
   "metadata": {},
   "outputs": [],
   "source": [
    "def predict_dps(prices, v_bid, v_ask, s1, s2, s3, w):\n",
    "    \"\"\"Predict average price changes (final estimations Δp) over the third\n",
    "       time period.\n",
    "    Args:\n",
    "        prices: A numpy array of floats representing prices over the third time\n",
    "            period.\n",
    "        v_bid: A numpy array of floats representing total volumes people are\n",
    "            willing to buy over the third time period.\n",
    "        v_ask: A numpy array of floats representing total volumes people are\n",
    "            willing to sell over the third time period.\n",
    "        s1: A 2-dimensional numpy array generated by choose_effective_centers()\n",
    "        s2: A 2-dimensional numpy array generated by choose_effective_centers().\n",
    "        s3: A 2-dimensional numpy array generated by choose_effective_centers().\n",
    "        w: A tuple (w0, w1, w2, w3, w4) generated by find_parameters_w().\n",
    "    Returns:\n",
    "        A numpy array of floats. Each array element represents the final\n",
    "        estimation Δp.\n",
    "    \"\"\"\n",
    "    dps = []\n",
    "    w0, w1, w2, w3, w4 = w\n",
    "    for i in range(720, len(prices) - 1):\n",
    "        dp1 = predict_dpi(prices[i - 180:i], s1)\n",
    "        dp2 = predict_dpi(prices[i - 360:i], s2)\n",
    "        dp3 = predict_dpi(prices[i - 720:i], s3)\n",
    "        r = (v_bid[i] - v_ask[i]) / (v_bid[i] + v_ask[i])\n",
    "        dp = w0 + w1 * dp1 + w2 * dp2 + w3 * dp3 + w4 * r\n",
    "        dps.append(float(dp))\n",
    "    return dps\n",
    "\n",
    "# Predict average price changes over the third time period.\n",
    "dps = predict_dps(prices3, v_bid3, v_ask3, s1, s2, s3, w)"
   ]
  },
  {
   "cell_type": "markdown",
   "metadata": {},
   "source": [
    "Worth noting is that this predict step is rather slow. The authors of the paper use an approximation to speed the calculation. See equation (9) in the paper.  \n",
    "  __Finally, we calculate the running tick score of the out-of-sample test.__ The X-axis is the running time in seconds. The y axis is profit in ticks."
   ]
  },
  {
   "cell_type": "code",
   "execution_count": 23,
   "metadata": {},
   "outputs": [],
   "source": [
    "def quick_evaluate(prices, dps, t, step):\n",
    "    \"\"\"Use the third time period to evaluate the performance of the algorithm.\n",
    "    Args:\n",
    "        prices: A numpy array of floats representing prices over the third time\n",
    "            period.\n",
    "        dps: A numpy array of floats generated by predict_dps().\n",
    "        t: A number representing a threshold.\n",
    "        step: An integer representing time steps (when we make trading decisions).\n",
    "    Returns:\n",
    "        A number representing the bank balance.\n",
    "    \"\"\"\n",
    "    tick_score = 0\n",
    "    position = 0\n",
    "    running_tick_score=[]\n",
    "    for i in range(720, len(prices) - 1, step):\n",
    "        # long position - BUY\n",
    "        if dps[i - 720] > t and position <= 0:\n",
    "            position += 1\n",
    "            tick_score -= prices[i]\n",
    "            if position == 0:\n",
    "                running_tick_score.append(tick_score)\n",
    "            #print(tick_score)\n",
    "        # short position - SELL\n",
    "        if dps[i - 720] < -t and position >= 0:\n",
    "            position -= 1\n",
    "            tick_score += prices[i]\n",
    "            #print(tick_score)\n",
    "            if position == 0:\n",
    "                running_tick_score.append(tick_score)\n",
    "            \n",
    "        \n",
    "    \n",
    "    # close all unclosed positions\n",
    "    # sell what you bought\n",
    "    if position == 1:\n",
    "        tick_score += prices[len(prices) - 1]\n",
    "        running_tick_score.append(tick_score)\n",
    "    # pay back what you borrowed\n",
    "    if position == -1:\n",
    "        tick_score -= prices[len(prices) - 1]\n",
    "        running_tick_score.append(tick_score)\n",
    "    #print(tick_score)\n",
    "    return running_tick_score"
   ]
  },
  {
   "cell_type": "code",
   "execution_count": 24,
   "metadata": {},
   "outputs": [
    {
     "data": {
      "text/plain": [
       "[<matplotlib.lines.Line2D at 0x1b56cdb9400>]"
      ]
     },
     "execution_count": 24,
     "metadata": {},
     "output_type": "execute_result"
    },
    {
     "data": {
      "image/png": "[encoded data removed]",
      "text/plain": [
       "<matplotlib.figure.Figure at 0x1b56cdaee10>"
      ]
     },
     "metadata": {},
     "output_type": "display_data"
    }
   ],
   "source": [
    "running_tick_score = quick_evaluate(prices3, dps, t=0.0015, step=1)\n",
    "plt.title('Strategy Equity')\n",
    "plt.ylabel('Equity in Ticks')\n",
    "plt.xlabel('Time in Seconds')\n",
    "plt.plot(running_tick_score)"
   ]
  },
  {
   "cell_type": "markdown",
   "metadata": {
    "collapsed": true
   },
   "source": [
    "This does not account for bid-ask spread or transaction costs; it only accounts for midprice predictions.  \n",
    "Some code borrowed from: https://github.com/panditanvita/BTCpredictor"
   ]
  }
 ],
 "metadata": {
  "kernelspec": {
   "display_name": "Python 3",
   "language": "python",
   "name": "python3"
  },
  "language_info": {
   "codemirror_mode": {
    "name": "ipython",
    "version": 3
   },
   "file_extension": ".py",
   "mimetype": "text/x-python",
   "name": "python",
   "nbconvert_exporter": "python",
   "pygments_lexer": "ipython3",
   "version": "3.6.4"
  }
 },
 "nbformat": 4,
 "nbformat_minor": 2
}
